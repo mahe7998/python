{
 "cells": [
  {
   "cell_type": "code",
   "execution_count": 1,
   "id": "16ea248a",
   "metadata": {},
   "outputs": [
    {
     "name": "stdout",
     "output_type": "stream",
     "text": [
      "--2023-04-25 02:06:44--  https://lazyprogrammer.me/course_files/nlp/bbc_text_cls.csv\n",
      "Resolving lazyprogrammer.me (lazyprogrammer.me)... 172.67.213.166, 104.21.23.210\n",
      "Connecting to lazyprogrammer.me (lazyprogrammer.me)|172.67.213.166|:443... connected.\n",
      "HTTP request sent, awaiting response... 200 OK\n",
      "Length: 5085081 (4.8M) [text/csv]\n",
      "Saving to: ‘bbc_text_cls.csv’\n",
      "\n",
      "bbc_text_cls.csv    100%[===================>]   4.85M  1.88MB/s    in 2.6s    \n",
      "\n",
      "2023-04-25 02:06:48 (1.88 MB/s) - ‘bbc_text_cls.csv’ saved [5085081/5085081]\n",
      "\n"
     ]
    }
   ],
   "source": [
    "!wget -nc https://lazyprogrammer.me/course_files/nlp/bbc_text_cls.csv"
   ]
  },
  {
   "cell_type": "code",
   "execution_count": 2,
   "id": "c6bf3e90",
   "metadata": {},
   "outputs": [
    {
     "name": "stderr",
     "output_type": "stream",
     "text": [
      "2023-04-25 02:07:05.548495: I tensorflow/core/util/port.cc:110] oneDNN custom operations are on. You may see slightly different numerical results due to floating-point round-off errors from different computation orders. To turn them off, set the environment variable `TF_ENABLE_ONEDNN_OPTS=0`.\n",
      "2023-04-25 02:07:05.572836: I tensorflow/core/platform/cpu_feature_guard.cc:182] This TensorFlow binary is optimized to use available CPU instructions in performance-critical operations.\n",
      "To enable the following instructions: AVX2 AVX512F AVX512_VNNI FMA, in other operations, rebuild TensorFlow with the appropriate compiler flags.\n"
     ]
    }
   ],
   "source": [
    "import numpy as np\n",
    "import pandas as pd\n",
    "import textwrap\n",
    "from pprint import pprint\n",
    "\n",
    "from transformers import pipeline"
   ]
  },
  {
   "cell_type": "code",
   "execution_count": 3,
   "id": "8ae3405e",
   "metadata": {},
   "outputs": [],
   "source": [
    "df = pd.read_csv('bbc_text_cls.csv')"
   ]
  },
  {
   "cell_type": "code",
   "execution_count": 4,
   "id": "fde4294e",
   "metadata": {},
   "outputs": [
    {
     "data": {
      "text/html": [
       "<div>\n",
       "<style scoped>\n",
       "    .dataframe tbody tr th:only-of-type {\n",
       "        vertical-align: middle;\n",
       "    }\n",
       "\n",
       "    .dataframe tbody tr th {\n",
       "        vertical-align: top;\n",
       "    }\n",
       "\n",
       "    .dataframe thead th {\n",
       "        text-align: right;\n",
       "    }\n",
       "</style>\n",
       "<table border=\"1\" class=\"dataframe\">\n",
       "  <thead>\n",
       "    <tr style=\"text-align: right;\">\n",
       "      <th></th>\n",
       "      <th>text</th>\n",
       "      <th>labels</th>\n",
       "    </tr>\n",
       "  </thead>\n",
       "  <tbody>\n",
       "    <tr>\n",
       "      <th>0</th>\n",
       "      <td>Ad sales boost Time Warner profit\\n\\nQuarterly...</td>\n",
       "      <td>business</td>\n",
       "    </tr>\n",
       "    <tr>\n",
       "      <th>1</th>\n",
       "      <td>Dollar gains on Greenspan speech\\n\\nThe dollar...</td>\n",
       "      <td>business</td>\n",
       "    </tr>\n",
       "    <tr>\n",
       "      <th>2</th>\n",
       "      <td>Yukos unit buyer faces loan claim\\n\\nThe owner...</td>\n",
       "      <td>business</td>\n",
       "    </tr>\n",
       "    <tr>\n",
       "      <th>3</th>\n",
       "      <td>High fuel prices hit BA's profits\\n\\nBritish A...</td>\n",
       "      <td>business</td>\n",
       "    </tr>\n",
       "    <tr>\n",
       "      <th>4</th>\n",
       "      <td>Pernod takeover talk lifts Domecq\\n\\nShares in...</td>\n",
       "      <td>business</td>\n",
       "    </tr>\n",
       "  </tbody>\n",
       "</table>\n",
       "</div>"
      ],
      "text/plain": [
       "                                                text    labels\n",
       "0  Ad sales boost Time Warner profit\\n\\nQuarterly...  business\n",
       "1  Dollar gains on Greenspan speech\\n\\nThe dollar...  business\n",
       "2  Yukos unit buyer faces loan claim\\n\\nThe owner...  business\n",
       "3  High fuel prices hit BA's profits\\n\\nBritish A...  business\n",
       "4  Pernod takeover talk lifts Domecq\\n\\nShares in...  business"
      ]
     },
     "execution_count": 4,
     "metadata": {},
     "output_type": "execute_result"
    }
   ],
   "source": [
    "df.head()"
   ]
  },
  {
   "cell_type": "code",
   "execution_count": 5,
   "id": "dc6c5c73",
   "metadata": {},
   "outputs": [
    {
     "data": {
      "text/plain": [
       "{'business', 'entertainment', 'politics', 'sport', 'tech'}"
      ]
     },
     "execution_count": 5,
     "metadata": {},
     "output_type": "execute_result"
    }
   ],
   "source": [
    "labels = set(df['labels'])\n",
    "labels"
   ]
  },
  {
   "cell_type": "code",
   "execution_count": 6,
   "id": "0f25d32d",
   "metadata": {},
   "outputs": [],
   "source": [
    "# Pick a label\n",
    "label = 'business'"
   ]
  },
  {
   "cell_type": "code",
   "execution_count": 7,
   "id": "ba30b108",
   "metadata": {},
   "outputs": [
    {
     "data": {
      "text/plain": [
       "0    Ad sales boost Time Warner profit\\n\\nQuarterly...\n",
       "1    Dollar gains on Greenspan speech\\n\\nThe dollar...\n",
       "2    Yukos unit buyer faces loan claim\\n\\nThe owner...\n",
       "3    High fuel prices hit BA's profits\\n\\nBritish A...\n",
       "4    Pernod takeover talk lifts Domecq\\n\\nShares in...\n",
       "Name: text, dtype: object"
      ]
     },
     "execution_count": 7,
     "metadata": {},
     "output_type": "execute_result"
    }
   ],
   "source": [
    "texts = df[df['labels'] == label]['text']\n",
    "texts.head()"
   ]
  },
  {
   "cell_type": "code",
   "execution_count": 8,
   "id": "ced51992",
   "metadata": {},
   "outputs": [],
   "source": [
    "np.random.seed(1234)"
   ]
  },
  {
   "cell_type": "code",
   "execution_count": 9,
   "id": "4cff8f39",
   "metadata": {},
   "outputs": [],
   "source": [
    "i = np.random.choice(texts.shape[0])\n",
    "doc = texts.iloc[i]"
   ]
  },
  {
   "cell_type": "code",
   "execution_count": 10,
   "id": "abe83868",
   "metadata": {},
   "outputs": [
    {
     "name": "stdout",
     "output_type": "stream",
     "text": [
      "Bombardier chief to leave company\n",
      "\n",
      "Shares in train and plane-making\n",
      "giant Bombardier have fallen to a 10-year low following the departure\n",
      "of its chief executive and two members of the board.\n",
      "\n",
      "Paul Tellier,\n",
      "who was also Bombardier's president, left the company amid an ongoing\n",
      "restructuring.  Laurent Beaudoin, part of the family that controls the\n",
      "Montreal-based firm, will take on the role of CEO under a newly\n",
      "created management structure.  Analysts said the resignations seem to\n",
      "have stemmed from a boardroom dispute.  Under Mr Tellier's tenure at\n",
      "the company, which began in January 2003, plans to cut the worldwide\n",
      "workforce of 75,000 by almost a third by 2006 were announced.  The\n",
      "firm's snowmobile division and defence services unit were also sold\n",
      "and Bombardier started the development of a new aircraft seating 110\n",
      "to 135 passengers.\n",
      "\n",
      "Mr Tellier had indicated he wanted to stay at the\n",
      "world's top train maker and third largest manufacturer of civil\n",
      "aircraft until the restructuring was complete.  But Bombardier has\n",
      "been faced with a declining share price and profits.  Earlier this\n",
      "month the firm said it earned $10m (£19.2m) in the third quarter, down\n",
      "from a profit of $133m a year ago.  \"I understand the board's concern\n",
      "that I would not be there for the long-term and the need to develop\n",
      "and execute strategies, and the need to reshape the management\n",
      "structure at this time,\" Mr Tellier said in a statement on Monday.\n",
      "Bombardier said restructuring plans drawn up by Mr Tellier's would\n",
      "continue to be implemented.  Shares in Bombardier lost 65 Canadian\n",
      "cents or 25% on the news to 1.90 Canadian dollars before rallying to\n",
      "2.20 Canadian dollars.\n"
     ]
    }
   ],
   "source": [
    "print(textwrap.fill(doc, replace_whitespace=False, fix_sentence_endings=True))"
   ]
  },
  {
   "cell_type": "code",
   "execution_count": 11,
   "id": "16a40035",
   "metadata": {},
   "outputs": [
    {
     "name": "stderr",
     "output_type": "stream",
     "text": [
      "No model was supplied, defaulted to distilroberta-base and revision ec58a5b (https://huggingface.co/distilroberta-base).\n",
      "Using a pipeline without specifying a model name and revision in production is not recommended.\n"
     ]
    },
    {
     "data": {
      "application/vnd.jupyter.widget-view+json": {
       "model_id": "a3970bb9c9a3477ca4cbc48fed5035d7",
       "version_major": 2,
       "version_minor": 0
      },
      "text/plain": [
       "Downloading (…)lve/main/config.json:   0%|          | 0.00/480 [00:00<?, ?B/s]"
      ]
     },
     "metadata": {},
     "output_type": "display_data"
    },
    {
     "data": {
      "application/vnd.jupyter.widget-view+json": {
       "model_id": "090b4a8c86d24e9fae67d41b62cedc22",
       "version_major": 2,
       "version_minor": 0
      },
      "text/plain": [
       "Downloading pytorch_model.bin:   0%|          | 0.00/331M [00:00<?, ?B/s]"
      ]
     },
     "metadata": {},
     "output_type": "display_data"
    },
    {
     "data": {
      "application/vnd.jupyter.widget-view+json": {
       "model_id": "355764e91c7941868f826fc429f1eb18",
       "version_major": 2,
       "version_minor": 0
      },
      "text/plain": [
       "Downloading (…)olve/main/vocab.json:   0%|          | 0.00/899k [00:00<?, ?B/s]"
      ]
     },
     "metadata": {},
     "output_type": "display_data"
    },
    {
     "data": {
      "application/vnd.jupyter.widget-view+json": {
       "model_id": "5c636f6a6f2e4f0bac867a3135b2e3fd",
       "version_major": 2,
       "version_minor": 0
      },
      "text/plain": [
       "Downloading (…)olve/main/merges.txt:   0%|          | 0.00/456k [00:00<?, ?B/s]"
      ]
     },
     "metadata": {},
     "output_type": "display_data"
    },
    {
     "data": {
      "application/vnd.jupyter.widget-view+json": {
       "model_id": "6c1253b6104f4f898facef62499dae25",
       "version_major": 2,
       "version_minor": 0
      },
      "text/plain": [
       "Downloading (…)/main/tokenizer.json:   0%|          | 0.00/1.36M [00:00<?, ?B/s]"
      ]
     },
     "metadata": {},
     "output_type": "display_data"
    }
   ],
   "source": [
    "mlm = pipeline('fill-mask')\n",
    "mlm.save_pretrained('fill-mask.local')"
   ]
  },
  {
   "cell_type": "code",
   "execution_count": 12,
   "id": "942ee822",
   "metadata": {},
   "outputs": [],
   "source": [
    "mlm = pipeline('fill-mask','fill-mask.local')"
   ]
  },
  {
   "cell_type": "code",
   "execution_count": 13,
   "id": "6d9765d0",
   "metadata": {},
   "outputs": [
    {
     "data": {
      "text/plain": [
       "[{'score': 0.06950829178094864,\n",
       "  'token': 633,\n",
       "  'token_str': ' job',\n",
       "  'sequence': 'Bombardier chief to leave job'},\n",
       " {'score': 0.06693069636821747,\n",
       "  'token': 1470,\n",
       "  'token_str': ' France',\n",
       "  'sequence': 'Bombardier chief to leave France'},\n",
       " {'score': 0.052735336124897,\n",
       "  'token': 558,\n",
       "  'token_str': ' office',\n",
       "  'sequence': 'Bombardier chief to leave office'},\n",
       " {'score': 0.025822937488555908,\n",
       "  'token': 2201,\n",
       "  'token_str': ' Paris',\n",
       "  'sequence': 'Bombardier chief to leave Paris'},\n",
       " {'score': 0.021368499845266342,\n",
       "  'token': 896,\n",
       "  'token_str': ' Canada',\n",
       "  'sequence': 'Bombardier chief to leave Canada'}]"
      ]
     },
     "execution_count": 13,
     "metadata": {},
     "output_type": "execute_result"
    }
   ],
   "source": [
    "mlm('Bombardier chief to leave <mask>')"
   ]
  },
  {
   "cell_type": "code",
   "execution_count": 15,
   "id": "0bb70891",
   "metadata": {},
   "outputs": [
    {
     "data": {
      "text/plain": [
       "[{'score': 0.6640943884849548,\n",
       "  'token': 11016,\n",
       "  'token_str': ' Airbus',\n",
       "  'sequence': 'Shares in Airbus and plane-making giant Bombardier have fallen to a 10-year low following the departure of its chief executive and two members of the board.'},\n",
       " {'score': 0.2614666819572449,\n",
       "  'token': 6722,\n",
       "  'token_str': ' Boeing',\n",
       "  'sequence': 'Shares in Boeing and plane-making giant Bombardier have fallen to a 10-year low following the departure of its chief executive and two members of the board.'},\n",
       " {'score': 0.023635458201169968,\n",
       "  'token': 15064,\n",
       "  'token_str': ' aerospace',\n",
       "  'sequence': 'Shares in aerospace and plane-making giant Bombardier have fallen to a 10-year low following the departure of its chief executive and two members of the board.'},\n",
       " {'score': 0.014581895433366299,\n",
       "  'token': 8537,\n",
       "  'token_str': ' airlines',\n",
       "  'sequence': 'Shares in airlines and plane-making giant Bombardier have fallen to a 10-year low following the departure of its chief executive and two members of the board.'},\n",
       " {'score': 0.005284335929900408,\n",
       "  'token': 9848,\n",
       "  'token_str': ' aviation',\n",
       "  'sequence': 'Shares in aviation and plane-making giant Bombardier have fallen to a 10-year low following the departure of its chief executive and two members of the board.'}]"
      ]
     },
     "execution_count": 15,
     "metadata": {},
     "output_type": "execute_result"
    }
   ],
   "source": [
    "text = 'Shares in <mask> and plane-making ' + \\\n",
    "  'giant Bombardier have fallen to a 10-year low following the departure ' + \\\n",
    " 'of its chief executive and two members of the board.'\n",
    "mlm(text)"
   ]
  },
  {
   "cell_type": "code",
   "execution_count": 18,
   "id": "cbf89725",
   "metadata": {},
   "outputs": [
    {
     "name": "stdout",
     "output_type": "stream",
     "text": [
      "[{'score': 0.5513920187950134,\n",
      "  'sequence': 'Shares in train and plane-making giant Bombardier have fallen '\n",
      "              'to a 10-year low following the resignation of its chief '\n",
      "              'executive and two members of the board.',\n",
      "  'token': 6985,\n",
      "  'token_str': ' resignation'},\n",
      " {'score': 0.21090371906757355,\n",
      "  'sequence': 'Shares in train and plane-making giant Bombardier have fallen '\n",
      "              'to a 10-year low following the departure of its chief executive '\n",
      "              'and two members of the board.',\n",
      "  'token': 5824,\n",
      "  'token_str': ' departure'},\n",
      " {'score': 0.13042090833187103,\n",
      "  'sequence': 'Shares in train and plane-making giant Bombardier have fallen '\n",
      "              'to a 10-year low following the departures of its chief '\n",
      "              'executive and two members of the board.',\n",
      "  'token': 25624,\n",
      "  'token_str': ' departures'},\n",
      " {'score': 0.036515600979328156,\n",
      "  'sequence': 'Shares in train and plane-making giant Bombardier have fallen '\n",
      "              'to a 10-year low following the dismissal of its chief executive '\n",
      "              'and two members of the board.',\n",
      "  'token': 14289,\n",
      "  'token_str': ' dismissal'},\n",
      " {'score': 0.01463882252573967,\n",
      "  'sequence': 'Shares in train and plane-making giant Bombardier have fallen '\n",
      "              'to a 10-year low following the firing of its chief executive '\n",
      "              'and two members of the board.',\n",
      "  'token': 5834,\n",
      "  'token_str': ' firing'}]\n"
     ]
    }
   ],
   "source": [
    "text = 'Shares in train and plane-making ' + \\\n",
    "  'giant Bombardier have fallen to a 10-year low following the <mask> ' + \\\n",
    "  'of its chief executive and two members of the board.'\n",
    "\n",
    "pprint(mlm(text))"
   ]
  },
  {
   "cell_type": "code",
   "execution_count": 16,
   "id": "a0202917",
   "metadata": {},
   "outputs": [
    {
     "name": "stdout",
     "output_type": "stream",
     "text": [
      "[{'score': 0.9897109866142273,\n",
      "  'sequence': 'Shares in train and plane-making giant Bombardier have fallen '\n",
      "              'to a 10-year low following the departure of its chief executive '\n",
      "              'and two members of the board.',\n",
      "  'token': 1031,\n",
      "  'token_str': ' executive'},\n",
      " {'score': 0.006391181610524654,\n",
      "  'sequence': 'Shares in train and plane-making giant Bombardier have fallen '\n",
      "              'to a 10-year low following the departure of its chief '\n",
      "              'executives and two members of the board.',\n",
      "  'token': 4585,\n",
      "  'token_str': ' executives'},\n",
      " {'score': 0.0016239462420344353,\n",
      "  'sequence': 'Shares in train and plane-making giant Bombardier have fallen '\n",
      "              'to a 10-year low following the departure of its chief economist '\n",
      "              'and two members of the board.',\n",
      "  'token': 7473,\n",
      "  'token_str': ' economist'},\n",
      " {'score': 0.0007142695831134915,\n",
      "  'sequence': 'Shares in train and plane-making giant Bombardier have fallen '\n",
      "              'to a 10-year low following the departure of its chief officer '\n",
      "              'and two members of the board.',\n",
      "  'token': 1036,\n",
      "  'token_str': ' officer'},\n",
      " {'score': 0.0004217234381940216,\n",
      "  'sequence': 'Shares in train and plane-making giant Bombardier have fallen '\n",
      "              'to a 10-year low following the departure of its chief engineer '\n",
      "              'and two members of the board.',\n",
      "  'token': 8083,\n",
      "  'token_str': ' engineer'}]\n"
     ]
    }
   ],
   "source": [
    "text = 'Shares in train and plane-making ' + \\\n",
    "  'giant Bombardier have fallen to a 10-year low following the departure ' + \\\n",
    "  'of its chief <mask> and two members of the board.'\n",
    "pprint(mlm(text))"
   ]
  },
  {
   "cell_type": "code",
   "execution_count": 17,
   "id": "a93c5510",
   "metadata": {},
   "outputs": [
    {
     "name": "stdout",
     "output_type": "stream",
     "text": [
      "[{'score': 0.9420549273490906,\n",
      "  'sequence': 'Shares in train and plane-making giant Bombardier have fallen '\n",
      "              'to a 10-year low following the departure of its chief executive '\n",
      "              'and two members of the board.',\n",
      "  'token': 453,\n",
      "  'token_str': ' members'},\n",
      " {'score': 0.0322311669588089,\n",
      "  'sequence': 'Shares in train and plane-making giant Bombardier have fallen '\n",
      "              'to a 10-year low following the departure of its chief executive '\n",
      "              'and two thirds of the board.',\n",
      "  'token': 29193,\n",
      "  'token_str': ' thirds'},\n",
      " {'score': 0.011233030818402767,\n",
      "  'sequence': 'Shares in train and plane-making giant Bombardier have fallen '\n",
      "              'to a 10-year low following the departure of its chief executive '\n",
      "              'and two directors of the board.',\n",
      "  'token': 5392,\n",
      "  'token_str': ' directors'},\n",
      " {'score': 0.003028044244274497,\n",
      "  'sequence': 'Shares in train and plane-making giant Bombardier have fallen '\n",
      "              'to a 10-year low following the departure of its chief executive '\n",
      "              'and two chairs of the board.',\n",
      "  'token': 10826,\n",
      "  'token_str': ' chairs'},\n",
      " {'score': 0.0019547876436263323,\n",
      "  'sequence': 'Shares in train and plane-making giant Bombardier have fallen '\n",
      "              'to a 10-year low following the departure of its chief executive '\n",
      "              'and two chiefs of the board.',\n",
      "  'token': 15201,\n",
      "  'token_str': ' chiefs'}]\n"
     ]
    }
   ],
   "source": [
    "text = 'Shares in train and plane-making ' + \\\n",
    "  'giant Bombardier have fallen to a 10-year low following the departure ' + \\\n",
    "  'of its chief executive and two <mask> of the board.'\n",
    "pprint(mlm(text))"
   ]
  },
  {
   "cell_type": "code",
   "execution_count": null,
   "id": "df8ef14d",
   "metadata": {},
   "outputs": [],
   "source": []
  }
 ],
 "metadata": {
  "kernelspec": {
   "display_name": "Python 3 (ipykernel)",
   "language": "python",
   "name": "python3"
  },
  "language_info": {
   "codemirror_mode": {
    "name": "ipython",
    "version": 3
   },
   "file_extension": ".py",
   "mimetype": "text/x-python",
   "name": "python",
   "nbconvert_exporter": "python",
   "pygments_lexer": "ipython3",
   "version": "3.8.10"
  }
 },
 "nbformat": 4,
 "nbformat_minor": 5
}
